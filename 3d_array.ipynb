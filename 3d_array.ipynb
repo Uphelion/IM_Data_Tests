{
 "cells": [
  {
   "cell_type": "code",
   "execution_count": 26,
   "metadata": {},
   "outputs": [
    {
     "name": "stdout",
     "output_type": "stream",
     "text": [
      "                                       Company  -2  -1     0     1    2  Year\n",
      "0  National Association of Manufacturers (NAM)   8  16  16.0   9.0  1.0  2021\n",
      "1                       US Chamber of Commerce  24  34  21.0  14.0  1.0  2021\n",
      "2  Western States Petroleum Association (WSPA)  17   9   5.0  14.0  0.0  2021\n",
      "3  National Association of Manufacturers (NAM)   8  16  11.0   1.0  2.0  2022\n",
      "4                       US Chamber of Commerce  40  34   8.0   9.0  3.0  2022\n",
      "5  Western States Petroleum Association (WSPA)  12   8   0.0   0.0  0.0  2022\n",
      "6  National Association of Manufacturers (NAM)  18  25  14.0   2.0  1.0  2023\n",
      "7                       US Chamber of Commerce  32  16  12.0   6.0  0.0  2023\n",
      "8  Western States Petroleum Association (WSPA)  10   8   6.0   0.0  0.0  2023\n",
      "(3, 3, 5)\n",
      "[[[ 8. 16. 16.  9.  1.]\n",
      "  [ 8. 16. 11.  1.  2.]\n",
      "  [18. 25. 14.  2.  1.]]\n",
      "\n",
      " [[24. 34. 21. 14.  1.]\n",
      "  [40. 34.  8.  9.  3.]\n",
      "  [32. 16. 12.  6.  0.]]\n",
      "\n",
      " [[17.  9.  5. 14.  0.]\n",
      "  [12.  8.  0.  0.  0.]\n",
      "  [10.  8.  6.  0.  0.]]]\n"
     ]
    }
   ],
   "source": [
    "# Load your dataset\n",
    "data = pd.read_csv('test_main.csv')\n",
    "#print(data)\n",
    "\n",
    "data.fillna(0, inplace=True)\n",
    "\n",
    "# Now, the NaN values are replaced with 0\n",
    "print(data)\n",
    "\n",
    "years = data['Year'].unique()\n",
    "companies = data['Company'].unique()\n",
    "ratings = ['-2', '-1', '0', '1', '2']\n",
    "\n",
    "# Initialize the 3D array with zeros\n",
    "three_d_array = np.zeros((len(companies), len(years), len(ratings)))\n",
    "\n",
    "# Fill the 3D array with data\n",
    "for i, company in enumerate(companies):\n",
    "    for j, year in enumerate(years):\n",
    "        for k, rating in enumerate(ratings):\n",
    "            subset = data[(data['Year'] == year) & (data['Company'] == company)]\n",
    "            if not subset.empty:\n",
    "                count = subset[rating].values[0]\n",
    "                three_d_array[i, j, k] = count\n",
    "\n",
    "# Check the shape of the 3D array\n",
    "print(three_d_array.shape)\n",
    "print(three_d_array)"
   ]
  },
  {
   "cell_type": "code",
   "execution_count": 27,
   "metadata": {},
   "outputs": [
    {
     "name": "stdout",
     "output_type": "stream",
     "text": [
      "[ 8. 16. 11.  1.  2.]\n"
     ]
    }
   ],
   "source": [
    "print(three_d_array[0, 1])"
   ]
  },
  {
   "cell_type": "code",
   "execution_count": 8,
   "metadata": {},
   "outputs": [
    {
     "name": "stdout",
     "output_type": "stream",
     "text": [
      "0 2\n",
      "[17.  9.  5. 14. nan]\n"
     ]
    }
   ],
   "source": [
    "def func1():\n",
    "    Year = int(input(\"Year? \"))\n",
    "    Company = int(input(\"Company? \"))\n",
    "\n",
    "    print(Year, Company)\n",
    "\n",
    "    data_out = three_d_array[Year, Company]\n",
    "    print(data_out)\n",
    "\n",
    "#func1()\n"
   ]
  },
  {
   "cell_type": "code",
   "execution_count": 75,
   "metadata": {},
   "outputs": [
    {
     "data": {
      "image/png": "[encoded data removed]",
      "text/plain": [
       "<Figure size 1440x360 with 4 Axes>"
      ]
     },
     "metadata": {
      "needs_background": "light"
     },
     "output_type": "display_data"
    }
   ],
   "source": [
    "import matplotlib.pyplot as plt\n",
    "import numpy as np\n",
    "from mpl_toolkits.axes_grid1 import make_axes_locatable\n",
    "\n",
    "fig, axes = plt.subplots(1, 3, figsize=(20, 5))\n",
    "\n",
    "# Plot each 2D slice as a heatmap\n",
    "for i, ax in enumerate(axes):\n",
    "    im = ax.imshow(three_d_array[i], cmap='viridis', interpolation='nearest')\n",
    "    ax.set_title(f'Slice {i+1}')\n",
    "    \n",
    "    # Modify the x-axis ticks and labels to range from -2 to 2\n",
    "    ax.set_xticks(np.arange(0, three_d_array.shape[2]))\n",
    "    ax.set_xticklabels(np.arange(-2, 3))  # Change tick labels here\n",
    "    \n",
    "    ax.set_yticks(np.arange(0, three_d_array.shape[0]))\n",
    "    ax.set_yticklabels(np.arange(1, three_d_array.shape[0] + 1))\n",
    "    \n",
    "    plt.setp(ax.get_xticklabels(), rotation=45, ha=\"right\", rotation_mode=\"anchor\")\n",
    "\n",
    "# Add a colorbar to the side of the heatmap\n",
    "divider = make_axes_locatable(axes[-1])\n",
    "cax = divider.append_axes(\"right\", size=\"5%\", pad=0.55)\n",
    "cbar = plt.colorbar(im, cax=cax, orientation='vertical')\n",
    "cbar.set_label('Value')\n",
    "\n",
    "# Remove unnecessary space between subplots\n",
    "plt.subplots_adjust(wspace=0.2)\n",
    "\n",
    "plt.tight_layout()\n",
    "plt.show()\n"
   ]
  },
  {
   "cell_type": "code",
   "execution_count": 80,
   "metadata": {},
   "outputs": [
    {
     "data": {
      "image/png": "[encoded data removed]",
      "text/plain": [
       "<Figure size 1440x360 with 4 Axes>"
      ]
     },
     "metadata": {
      "needs_background": "light"
     },
     "output_type": "display_data"
    }
   ],
   "source": [
    "import matplotlib.pyplot as plt\n",
    "import numpy as np\n",
    "import matplotlib.gridspec as gridspec\n",
    "\n",
    "# Create a grid of subplots with 1 row and 4 columns\n",
    "fig = plt.figure(figsize=(20, 5))\n",
    "gs = gridspec.GridSpec(1, 4, width_ratios=[1, 1, 1, 0.05])  # The last column is for the colorbar\n",
    "\n",
    "subplot_labels = [\"NAM\", \"US Chamber of Commerce\", \"WSPA\"]\n",
    "\n",
    "# Plot each 2D slice as a heatmap\n",
    "for i, ax in enumerate([plt.subplot(gs[j]) for j in range(3)]):\n",
    "    im = ax.imshow(three_d_array[i], cmap='viridis', interpolation='nearest')\n",
    "    ax.set_title(subplot_labels[i])\n",
    "    \n",
    "    # Modify the x-axis ticks and labels to range from -2 to 2\n",
    "    ax.set_xticks(np.arange(0, three_d_array.shape[2]))\n",
    "    ax.set_xticklabels(np.arange(-2, 3))  # Change tick labels here\n",
    "    \n",
    "    ax.set_yticks(np.arange(0, three_d_array.shape[0]))\n",
    "    ax.set_yticklabels(np.arange(1, three_d_array.shape[0] + 1))\n",
    "    \n",
    "    plt.setp(ax.get_xticklabels(), rotation=45, ha=\"right\", rotation_mode=\"anchor\")\n",
    "\n",
    "# Add a colorbar to the side of the heatmap\n",
    "cax = plt.subplot(gs[3])  # The last column is for the colorbar\n",
    "cbar = plt.colorbar(im, cax=cax, orientation='vertical')\n",
    "cbar.set_label('Value')\n",
    "\n",
    "plt.tight_layout()\n",
    "plt.show()\n"
   ]
  },
  {
   "cell_type": "code",
   "execution_count": 103,
   "metadata": {},
   "outputs": [
    {
     "name": "stderr",
     "output_type": "stream",
     "text": [
      "<ipython-input-103-e2fa4afbb45e>:36: UserWarning: This figure includes Axes that are not compatible with tight_layout, so results might be incorrect.\n",
      "  plt.tight_layout()\n"
     ]
    },
    {
     "data": {
      "image/png": "[encoded data removed]",
      "text/plain": [
       "<Figure size 1440x360 with 4 Axes>"
      ]
     },
     "metadata": {
      "needs_background": "light"
     },
     "output_type": "display_data"
    }
   ],
   "source": [
    "import matplotlib.pyplot as plt\n",
    "import numpy as np\n",
    "import matplotlib.gridspec as gridspec\n",
    "\n",
    "# Create a grid of subplots with 1 row and 4 columns\n",
    "fig = plt.figure(figsize=(20, 5))\n",
    "gs = gridspec.GridSpec(1, 4, width_ratios=[1, 1, 1, 0.05])  # The last column is for the colorbar\n",
    "\n",
    "subplot_labels = [\"NAM\", \"US Chamber of Commerce\", \"WSPA\"]\n",
    "\n",
    "# Plot each 2D slice as a heatmap\n",
    "for i, ax in enumerate([plt.subplot(gs[j]) for j in range(3)]):\n",
    "    im = ax.imshow(three_d_array[i], cmap='cool', interpolation='nearest')\n",
    "    ax.set_title(subplot_labels[i])\n",
    "    \n",
    "    # Modify the x-axis ticks and labels to range from -2 to 2\n",
    "    ax.set_xticks(np.arange(0, three_d_array.shape[2]))\n",
    "    ax.set_xticklabels(np.arange(-2, 3))  # Change tick labels here\n",
    "    \n",
    "    if i == 0:  # Only show y-axis labels on the first subplot\n",
    "        ax.set_yticks(np.arange(0, three_d_array.shape[0]))\n",
    "        ax.set_yticklabels([\"2021\", \"2022\", \"2023\"])  # Change y-axis labels here\n",
    "    else:\n",
    "        ax.set_yticks([])  # Remove y-axis ticks and labels for other subplots\n",
    "    \n",
    "    plt.setp(ax.get_xticklabels(), rotation=45, ha=\"right\", rotation_mode=\"anchor\")\n",
    "\n",
    "# Add a colorbar to the side of the heatmap\n",
    "cax = plt.subplot(gs[3])  # The last column is for the colorbar\n",
    "cbar = plt.colorbar(im, cax=cax, orientation='vertical')\n",
    "cbar.set_label('Count')\n",
    "\n",
    "# Adjust the spacing between subplots using the gridspec\n",
    "gs.update(wspace=0.009, hspace=0.5)\n",
    "\n",
    "plt.tight_layout()\n",
    "plt.show()"
   ]
  },
  {
   "cell_type": "code",
   "execution_count": null,
   "metadata": {},
   "outputs": [],
   "source": []
  }
 ],
 "metadata": {
  "kernelspec": {
   "display_name": "Python 3",
   "language": "python",
   "name": "python3"
  },
  "language_info": {
   "codemirror_mode": {
    "name": "ipython",
    "version": 3
   },
   "file_extension": ".py",
   "mimetype": "text/x-python",
   "name": "python",
   "nbconvert_exporter": "python",
   "pygments_lexer": "ipython3",
   "version": "3.8.8"
  },
  "orig_nbformat": 4
 },
 "nbformat": 4,
 "nbformat_minor": 2
}
