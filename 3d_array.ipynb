{
 "cells": [
  {
   "cell_type": "code",
   "execution_count": 7,
   "metadata": {},
   "outputs": [
    {
     "name": "stdout",
     "output_type": "stream",
     "text": [
      "(3, 3, 5)\n",
      "[[[ 8. 16. 16.  9.  1.]\n",
      "  [24. 34. 21. 14.  1.]\n",
      "  [17.  9.  5. 14. nan]]\n",
      "\n",
      " [[ 8. 16. 11.  1.  2.]\n",
      "  [40. 34.  8.  9.  3.]\n",
      "  [12.  8. nan nan nan]]\n",
      "\n",
      " [[18. 25. 14.  2.  1.]\n",
      "  [32. 16. 12.  6. nan]\n",
      "  [10.  8.  6. nan nan]]]\n"
     ]
    }
   ],
   "source": [
    "import pandas as pd\n",
    "import numpy as np\n",
    "\n",
    "# Load your dataset\n",
    "data = pd.read_csv('test_main.csv')\n",
    "#print(data)\n",
    "\n",
    "years = data['Year'].unique()\n",
    "companies = data['Company'].unique()\n",
    "ratings = ['-2', '-1', '0', '1', '2']\n",
    "\n",
    "# Initialize the 3D array with zeros\n",
    "three_d_array = np.zeros((len(years), len(companies), len(ratings)))\n",
    "\n",
    "# Fill the 3D array with data\n",
    "for i, year in enumerate(years):\n",
    "    for j, company in enumerate(companies):\n",
    "        for k, rating in enumerate(ratings):\n",
    "            subset = data[(data['Year'] == year) & (data['Company'] == company)]\n",
    "            if not subset.empty:\n",
    "                count = subset[rating].values[0]\n",
    "                three_d_array[i, j, k] = count\n",
    "\n",
    "# Check the shape of the 3D array\n",
    "print(three_d_array.shape)\n",
    "print(three_d_array)"
   ]
  },
  {
   "cell_type": "code",
   "execution_count": 9,
   "metadata": {},
   "outputs": [
    {
     "name": "stdout",
     "output_type": "stream",
     "text": [
      "[40. 34.  8.  9.  3.]\n"
     ]
    }
   ],
   "source": [
    "print(three_d_array[1, 1])"
   ]
  },
  {
   "cell_type": "code",
   "execution_count": 1,
   "metadata": {},
   "outputs": [
    {
     "name": "stdout",
     "output_type": "stream",
     "text": [
      "Year? \n"
     ]
    }
   ],
   "source": [
    "Year = input(print(\"Year? \"))\n",
    "Company = input(print(\"Company? \"))\n",
    "\n",
    "def func1():\n",
    "\n",
    "    Year = input(print(\"Year? \"))\n",
    "    Company = input(print(\"Company? \"))\n",
    "\n",
    "    data_out = three_d_array[Year, Company]\n",
    "    print(data_out)\n",
    "\n",
    "func()"
   ]
  },
  {
   "cell_type": "code",
   "execution_count": null,
   "metadata": {},
   "outputs": [],
   "source": []
  }
 ],
 "metadata": {
  "kernelspec": {
   "display_name": "Python 3",
   "language": "python",
   "name": "python3"
  },
  "language_info": {
   "codemirror_mode": {
    "name": "ipython",
    "version": 3
   },
   "file_extension": ".py",
   "mimetype": "text/x-python",
   "name": "python",
   "nbconvert_exporter": "python",
   "pygments_lexer": "ipython3",
   "version": "3.8.8"
  },
  "orig_nbformat": 4
 },
 "nbformat": 4,
 "nbformat_minor": 2
}
